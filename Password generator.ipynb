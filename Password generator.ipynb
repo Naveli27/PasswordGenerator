{
 "cells": [
  {
   "cell_type": "code",
   "execution_count": 1,
   "id": "a6634124",
   "metadata": {},
   "outputs": [],
   "source": [
    "# password generator\n",
    "import tkinter as tk\n",
    "from tkinter import messagebox\n",
    "import random\n",
    "import string\n",
    "\n",
    "def generate_password():\n",
    "    try:\n",
    "        length = int(entry_length.get())\n",
    "        if length <= 0:\n",
    "            messagebox.showerror(\"Error\", \"Please enter a valid positive length.\")\n",
    "            return\n",
    "\n",
    "        characters = string.ascii_letters + string.digits + string.punctuation\n",
    "        password = ''.join(random.choice(characters) for _ in range(length))\n",
    "        result_label.config(text=f\"Generated password: {password}\")\n",
    "    except ValueError:\n",
    "        messagebox.showerror(\"Error\", \"Invalid input. Please enter a valid number.\")\n",
    "\n",
    "# Create the main window\n",
    "root = tk.Tk()\n",
    "root.title(\"Password Generator\")\n",
    "\n",
    "# Entry widget for password length\n",
    "entry_length = tk.Entry(root)\n",
    "length_label = tk.Label(root, text=\"Enter password length:\")\n",
    "length_label.pack()\n",
    "entry_length.pack()\n",
    "\n",
    "# Button to generate password\n",
    "generate_button = tk.Button(root, text=\"Generate Password\", command=generate_password)\n",
    "generate_button.pack()\n",
    "\n",
    "# Label to display the generated password\n",
    "result_label = tk.Label(root, text=\"Generated password:\")\n",
    "result_label.pack()\n",
    "\n",
    "# Start the GUI event loop\n",
    "root.mainloop()\n"
   ]
  },
  {
   "cell_type": "code",
   "execution_count": null,
   "id": "1c1e7276",
   "metadata": {},
   "outputs": [],
   "source": []
  }
 ],
 "metadata": {
  "kernelspec": {
   "display_name": "Python 3 (ipykernel)",
   "language": "python",
   "name": "python3"
  },
  "language_info": {
   "codemirror_mode": {
    "name": "ipython",
    "version": 3
   },
   "file_extension": ".py",
   "mimetype": "text/x-python",
   "name": "python",
   "nbconvert_exporter": "python",
   "pygments_lexer": "ipython3",
   "version": "3.10.9"
  }
 },
 "nbformat": 4,
 "nbformat_minor": 5
}
